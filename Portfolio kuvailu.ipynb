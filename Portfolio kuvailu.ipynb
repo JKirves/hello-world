{
 "cells": [
  {
   "cell_type": "code",
   "execution_count": 1,
   "metadata": {},
   "outputs": [],
   "source": [
    "import pandas as pd\n",
    "import numpy as np\n",
    "import matplotlib.pyplot as plt\n",
    "%matplotlib inline"
   ]
  },
  {
   "cell_type": "code",
   "execution_count": 2,
   "metadata": {},
   "outputs": [
    {
     "data": {
      "text/plain": [
       "(537577, 12)"
      ]
     },
     "execution_count": 2,
     "metadata": {},
     "output_type": "execute_result"
    }
   ],
   "source": [
    "df=pd.read_csv('data/BlackFriday.csv')\n",
    "df.shape"
   ]
  },
  {
   "cell_type": "code",
   "execution_count": 3,
   "metadata": {
    "scrolled": true
   },
   "outputs": [
    {
     "data": {
      "text/html": [
       "<div>\n",
       "<style scoped>\n",
       "    .dataframe tbody tr th:only-of-type {\n",
       "        vertical-align: middle;\n",
       "    }\n",
       "\n",
       "    .dataframe tbody tr th {\n",
       "        vertical-align: top;\n",
       "    }\n",
       "\n",
       "    .dataframe thead th {\n",
       "        text-align: right;\n",
       "    }\n",
       "</style>\n",
       "<table border=\"1\" class=\"dataframe\">\n",
       "  <thead>\n",
       "    <tr style=\"text-align: right;\">\n",
       "      <th></th>\n",
       "      <th>User_ID</th>\n",
       "      <th>Product_ID</th>\n",
       "      <th>Gender</th>\n",
       "      <th>Age</th>\n",
       "      <th>Occupation</th>\n",
       "      <th>City_Category</th>\n",
       "      <th>Stay_In_Current_City_Years</th>\n",
       "      <th>Marital_Status</th>\n",
       "      <th>Product_Category_1</th>\n",
       "      <th>Product_Category_2</th>\n",
       "      <th>Product_Category_3</th>\n",
       "      <th>Purchase</th>\n",
       "    </tr>\n",
       "  </thead>\n",
       "  <tbody>\n",
       "    <tr>\n",
       "      <th>0</th>\n",
       "      <td>1000001</td>\n",
       "      <td>P00069042</td>\n",
       "      <td>F</td>\n",
       "      <td>0-17</td>\n",
       "      <td>10</td>\n",
       "      <td>A</td>\n",
       "      <td>2</td>\n",
       "      <td>0</td>\n",
       "      <td>3</td>\n",
       "      <td>NaN</td>\n",
       "      <td>NaN</td>\n",
       "      <td>8370</td>\n",
       "    </tr>\n",
       "    <tr>\n",
       "      <th>1</th>\n",
       "      <td>1000001</td>\n",
       "      <td>P00248942</td>\n",
       "      <td>F</td>\n",
       "      <td>0-17</td>\n",
       "      <td>10</td>\n",
       "      <td>A</td>\n",
       "      <td>2</td>\n",
       "      <td>0</td>\n",
       "      <td>1</td>\n",
       "      <td>6.0</td>\n",
       "      <td>14.0</td>\n",
       "      <td>15200</td>\n",
       "    </tr>\n",
       "    <tr>\n",
       "      <th>2</th>\n",
       "      <td>1000001</td>\n",
       "      <td>P00087842</td>\n",
       "      <td>F</td>\n",
       "      <td>0-17</td>\n",
       "      <td>10</td>\n",
       "      <td>A</td>\n",
       "      <td>2</td>\n",
       "      <td>0</td>\n",
       "      <td>12</td>\n",
       "      <td>NaN</td>\n",
       "      <td>NaN</td>\n",
       "      <td>1422</td>\n",
       "    </tr>\n",
       "    <tr>\n",
       "      <th>3</th>\n",
       "      <td>1000001</td>\n",
       "      <td>P00085442</td>\n",
       "      <td>F</td>\n",
       "      <td>0-17</td>\n",
       "      <td>10</td>\n",
       "      <td>A</td>\n",
       "      <td>2</td>\n",
       "      <td>0</td>\n",
       "      <td>12</td>\n",
       "      <td>14.0</td>\n",
       "      <td>NaN</td>\n",
       "      <td>1057</td>\n",
       "    </tr>\n",
       "    <tr>\n",
       "      <th>4</th>\n",
       "      <td>1000002</td>\n",
       "      <td>P00285442</td>\n",
       "      <td>M</td>\n",
       "      <td>55+</td>\n",
       "      <td>16</td>\n",
       "      <td>C</td>\n",
       "      <td>4+</td>\n",
       "      <td>0</td>\n",
       "      <td>8</td>\n",
       "      <td>NaN</td>\n",
       "      <td>NaN</td>\n",
       "      <td>7969</td>\n",
       "    </tr>\n",
       "  </tbody>\n",
       "</table>\n",
       "</div>"
      ],
      "text/plain": [
       "   User_ID Product_ID Gender   Age  Occupation City_Category  \\\n",
       "0  1000001  P00069042      F  0-17          10             A   \n",
       "1  1000001  P00248942      F  0-17          10             A   \n",
       "2  1000001  P00087842      F  0-17          10             A   \n",
       "3  1000001  P00085442      F  0-17          10             A   \n",
       "4  1000002  P00285442      M   55+          16             C   \n",
       "\n",
       "  Stay_In_Current_City_Years  Marital_Status  Product_Category_1  \\\n",
       "0                          2               0                   3   \n",
       "1                          2               0                   1   \n",
       "2                          2               0                  12   \n",
       "3                          2               0                  12   \n",
       "4                         4+               0                   8   \n",
       "\n",
       "   Product_Category_2  Product_Category_3  Purchase  \n",
       "0                 NaN                 NaN      8370  \n",
       "1                 6.0                14.0     15200  \n",
       "2                 NaN                 NaN      1422  \n",
       "3                14.0                 NaN      1057  \n",
       "4                 NaN                 NaN      7969  "
      ]
     },
     "execution_count": 3,
     "metadata": {},
     "output_type": "execute_result"
    }
   ],
   "source": [
    "df.head()"
   ]
  },
  {
   "cell_type": "code",
   "execution_count": 4,
   "metadata": {},
   "outputs": [
    {
     "name": "stdout",
     "output_type": "stream",
     "text": [
      "User_ID [1000001 1000002 1000003 ... 1004113 1005391 1001529]\n",
      "Product_ID ['P00069042' 'P00248942' 'P00087842' ... 'P00038842' 'P00295642'\n",
      " 'P00091742']\n",
      "Gender ['F' 'M']\n",
      "Age ['0-17' '55+' '26-35' '46-50' '51-55' '36-45' '18-25']\n",
      "Occupation [10 16 15  7 20  9  1 12 17  0  3  4 11  8 19  2 18  5 14 13  6]\n",
      "City_Category ['A' 'C' 'B']\n",
      "Stay_In_Current_City_Years ['2' '4+' '3' '1' '0']\n",
      "Marital_Status [0 1]\n",
      "Product_Category_1 [ 3  1 12  8  5  4  2  6 14 11 13 15  7 16 18 10 17  9]\n",
      "Product_Category_2 [nan  6. 14.  2.  8. 15. 16. 11.  5.  3.  4. 12.  9. 10. 17. 13.  7. 18.]\n",
      "Product_Category_3 [nan 14. 17.  5.  4. 16. 15.  8.  9. 13.  6. 12.  3. 18. 11. 10.]\n",
      "Purchase [ 8370 15200  1422 ... 14539 11120 18426]\n"
     ]
    }
   ],
   "source": [
    "for var in df:\n",
    "    print(var, pd.unique(df[var]))"
   ]
  },
  {
   "cell_type": "code",
   "execution_count": 5,
   "metadata": {},
   "outputs": [
    {
     "data": {
      "text/plain": [
       "[Text(0, 0, '0'),\n",
       " Text(0, 0, '50'),\n",
       " Text(0, 0, '100'),\n",
       " Text(0, 0, '150'),\n",
       " Text(0, 0, '200'),\n",
       " Text(0, 0, '250')]"
      ]
     },
     "execution_count": 5,
     "metadata": {},
     "output_type": "execute_result"
    },
    {
     "data": {
      "image/png": "[encoded data removed]",
      "text/plain": [
       "<Figure size 432x288 with 1 Axes>"
      ]
     },
     "metadata": {},
     "output_type": "display_data"
    }
   ],
   "source": [
    "df1 = pd.crosstab(df['Age'], 'Count')\n",
    "plt.style.use('ggplot')\n",
    "ax = df1.plot.barh(legend=False)\n",
    "ax.set(xlabel='Thousands',ylabel='Age Group',title='Count of people in Age Group')\n",
    "vals=ax.get_xticks()\n",
    "ax.set_xticklabels(['{:.0f}'.format(x/1000) for x in vals])"
   ]
  },
  {
   "cell_type": "code",
   "execution_count": 18,
   "metadata": {},
   "outputs": [
    {
     "data": {
      "text/html": [
       "<style  type=\"text/css\" >\n",
       "    #T_fa46b8ca_7c63_11e9_a8de_54ab3addad69row1_col0 {\n",
       "            background-color:  red;\n",
       "        }    #T_fa46b8ca_7c63_11e9_a8de_54ab3addad69row3_col0 {\n",
       "            background-color:  red;\n",
       "        }</style>  \n",
       "<table id=\"T_fa46b8ca_7c63_11e9_a8de_54ab3addad69\" > \n",
       "<thead>    <tr> \n",
       "        <th class=\"blank\" ></th> \n",
       "        <th class=\"index_name level0\" >Age</th> \n",
       "        <th class=\"col_heading level0 col0\" >0-17</th> \n",
       "        <th class=\"col_heading level0 col1\" >18-25</th> \n",
       "        <th class=\"col_heading level0 col2\" >26-35</th> \n",
       "        <th class=\"col_heading level0 col3\" >36-45</th> \n",
       "        <th class=\"col_heading level0 col4\" >46-50</th> \n",
       "        <th class=\"col_heading level0 col5\" >51-55</th> \n",
       "        <th class=\"col_heading level0 col6\" >55+</th> \n",
       "    </tr>    <tr> \n",
       "        <th class=\"index_name level0\" >Gender</th> \n",
       "        <th class=\"index_name level1\" >Marital_Status</th> \n",
       "        <th class=\"blank\" ></th> \n",
       "        <th class=\"blank\" ></th> \n",
       "        <th class=\"blank\" ></th> \n",
       "        <th class=\"blank\" ></th> \n",
       "        <th class=\"blank\" ></th> \n",
       "        <th class=\"blank\" ></th> \n",
       "        <th class=\"blank\" ></th> \n",
       "    </tr></thead> \n",
       "<tbody>    <tr> \n",
       "        <th id=\"T_fa46b8ca_7c63_11e9_a8de_54ab3addad69level0_row0\" class=\"row_heading level0 row0\" rowspan=2>Female</th> \n",
       "        <th id=\"T_fa46b8ca_7c63_11e9_a8de_54ab3addad69level1_row0\" class=\"row_heading level1 row0\" >Not married</th> \n",
       "        <td id=\"T_fa46b8ca_7c63_11e9_a8de_54ab3addad69row0_col0\" class=\"data row0 col0\" >8445</td> \n",
       "        <td id=\"T_fa46b8ca_7c63_11e9_a8de_54ab3addad69row0_col1\" class=\"data row0 col1\" >8545</td> \n",
       "        <td id=\"T_fa46b8ca_7c63_11e9_a8de_54ab3addad69row0_col2\" class=\"data row0 col2\" >8658</td> \n",
       "        <td id=\"T_fa46b8ca_7c63_11e9_a8de_54ab3addad69row0_col3\" class=\"data row0 col3\" >9101</td> \n",
       "        <td id=\"T_fa46b8ca_7c63_11e9_a8de_54ab3addad69row0_col4\" class=\"data row0 col4\" >8863</td> \n",
       "        <td id=\"T_fa46b8ca_7c63_11e9_a8de_54ab3addad69row0_col5\" class=\"data row0 col5\" >9241</td> \n",
       "        <td id=\"T_fa46b8ca_7c63_11e9_a8de_54ab3addad69row0_col6\" class=\"data row0 col6\" >8958</td> \n",
       "    </tr>    <tr> \n",
       "        <th id=\"T_fa46b8ca_7c63_11e9_a8de_54ab3addad69level1_row1\" class=\"row_heading level1 row1\" >Married</th> \n",
       "        <td id=\"T_fa46b8ca_7c63_11e9_a8de_54ab3addad69row1_col0\" class=\"data row1 col0\" >nan</td> \n",
       "        <td id=\"T_fa46b8ca_7c63_11e9_a8de_54ab3addad69row1_col1\" class=\"data row1 col1\" >7995</td> \n",
       "        <td id=\"T_fa46b8ca_7c63_11e9_a8de_54ab3addad69row1_col2\" class=\"data row1 col2\" >8988</td> \n",
       "        <td id=\"T_fa46b8ca_7c63_11e9_a8de_54ab3addad69row1_col3\" class=\"data row1 col3\" >8959</td> \n",
       "        <td id=\"T_fa46b8ca_7c63_11e9_a8de_54ab3addad69row1_col4\" class=\"data row1 col4\" >8950</td> \n",
       "        <td id=\"T_fa46b8ca_7c63_11e9_a8de_54ab3addad69row1_col5\" class=\"data row1 col5\" >9069</td> \n",
       "        <td id=\"T_fa46b8ca_7c63_11e9_a8de_54ab3addad69row1_col6\" class=\"data row1 col6\" >9216</td> \n",
       "    </tr>    <tr> \n",
       "        <th id=\"T_fa46b8ca_7c63_11e9_a8de_54ab3addad69level0_row2\" class=\"row_heading level0 row2\" rowspan=2>Male</th> \n",
       "        <th id=\"T_fa46b8ca_7c63_11e9_a8de_54ab3addad69level1_row2\" class=\"row_heading level1 row2\" >Not married</th> \n",
       "        <td id=\"T_fa46b8ca_7c63_11e9_a8de_54ab3addad69row2_col0\" class=\"data row2 col0\" >9312</td> \n",
       "        <td id=\"T_fa46b8ca_7c63_11e9_a8de_54ab3addad69row2_col1\" class=\"data row2 col1\" >9504</td> \n",
       "        <td id=\"T_fa46b8ca_7c63_11e9_a8de_54ab3addad69row2_col2\" class=\"data row2 col2\" >9504</td> \n",
       "        <td id=\"T_fa46b8ca_7c63_11e9_a8de_54ab3addad69row2_col3\" class=\"data row2 col3\" >9594</td> \n",
       "        <td id=\"T_fa46b8ca_7c63_11e9_a8de_54ab3addad69row2_col4\" class=\"data row2 col4\" >9092</td> \n",
       "        <td id=\"T_fa46b8ca_7c63_11e9_a8de_54ab3addad69row2_col5\" class=\"data row2 col5\" >9870</td> \n",
       "        <td id=\"T_fa46b8ca_7c63_11e9_a8de_54ab3addad69row2_col6\" class=\"data row2 col6\" >9884</td> \n",
       "    </tr>    <tr> \n",
       "        <th id=\"T_fa46b8ca_7c63_11e9_a8de_54ab3addad69level1_row3\" class=\"row_heading level1 row3\" >Married</th> \n",
       "        <td id=\"T_fa46b8ca_7c63_11e9_a8de_54ab3addad69row3_col0\" class=\"data row3 col0\" >nan</td> \n",
       "        <td id=\"T_fa46b8ca_7c63_11e9_a8de_54ab3addad69row3_col1\" class=\"data row3 col1\" >9515</td> \n",
       "        <td id=\"T_fa46b8ca_7c63_11e9_a8de_54ab3addad69row3_col2\" class=\"data row3 col2\" >9418</td> \n",
       "        <td id=\"T_fa46b8ca_7c63_11e9_a8de_54ab3addad69row3_col3\" class=\"data row3 col3\" >9402</td> \n",
       "        <td id=\"T_fa46b8ca_7c63_11e9_a8de_54ab3addad69row3_col4\" class=\"data row3 col4\" >9569</td> \n",
       "        <td id=\"T_fa46b8ca_7c63_11e9_a8de_54ab3addad69row3_col5\" class=\"data row3 col5\" >9761</td> \n",
       "        <td id=\"T_fa46b8ca_7c63_11e9_a8de_54ab3addad69row3_col6\" class=\"data row3 col6\" >9372</td> \n",
       "    </tr></tbody> \n",
       "</table> "
      ],
      "text/plain": [
       "<pandas.io.formats.style.Styler at 0x23bc5d6da58>"
      ]
     },
     "execution_count": 18,
     "metadata": {},
     "output_type": "execute_result"
    }
   ],
   "source": [
    "df3=df.pivot_table(values='Purchase', index=['Gender','Marital_Status'], columns='Age')\n",
    "Marital_Status=['Not married','Married']\n",
    "Gender=['Female','Male']\n",
    "df3.index=df3.index.set_levels(Gender, level=0)\n",
    "df3.index=df3.index.set_levels(Marital_Status, level=1)\n",
    "df3.style.format('{:.0f}').highlight_null(null_color='red')"
   ]
  },
  {
   "cell_type": "code",
   "execution_count": 24,
   "metadata": {},
   "outputs": [
    {
     "data": {
      "text/plain": [
       "<matplotlib.legend.Legend at 0x23bcb502860>"
      ]
     },
     "execution_count": 24,
     "metadata": {},
     "output_type": "execute_result"
    },
    {
     "data": {
      "image/png": "[encoded data removed]",
      "text/plain": [
       "<Figure size 432x288 with 1 Axes>"
      ]
     },
     "metadata": {},
     "output_type": "display_data"
    }
   ],
   "source": [
    "import seaborn as sns\n",
    "sns.boxplot(x='Age', y='Purchase', hue='Gender', data=df)\n",
    "plt.legend(bbox_to_anchor=(1.05, 1), loc=2, borderaxespad=0.)"
   ]
  },
  {
   "cell_type": "code",
   "execution_count": 8,
   "metadata": {},
   "outputs": [
    {
     "data": {
      "text/plain": [
       "Text(0, 0.5, 'People in Age Group')"
      ]
     },
     "execution_count": 8,
     "metadata": {},
     "output_type": "execute_result"
    },
    {
     "data": {
      "image/png": "[encoded data removed]",
      "text/plain": [
       "<Figure size 432x288 with 1 Axes>"
      ]
     },
     "metadata": {},
     "output_type": "display_data"
    }
   ],
   "source": [
    "ax1 = sns.countplot(x='Age', data=df, hue='Gender')\n",
    "\n",
    "ax1.set_ylabel('People in Age Group')"
   ]
  },
  {
   "cell_type": "code",
   "execution_count": 9,
   "metadata": {},
   "outputs": [
    {
     "data": {
      "image/png": "[encoded data removed]",
      "text/plain": [
       "<Figure size 432x288 with 1 Axes>"
      ]
     },
     "metadata": {},
     "output_type": "display_data"
    }
   ],
   "source": [
    "df4 = pd.crosstab(df['Age'], 'n')\n",
    "df4['%'] = df4/df4.sum()*100\n",
    "\n",
    "#Katsottu, että dataframe 4 antaa oikeanlaisen datan, mutta jatketaan suoraan graafiseen esitykseen.\n",
    "\n",
    "from matplotlib.ticker import PercentFormatter\n",
    "\n",
    "ax2=df4['%'].plot.barh()\n",
    "n=df4['n'].sum()\n",
    "ax2.set_xlabel('Percent (n='+str(n)+')')\n",
    "ax2.xaxis.set_major_formatter(PercentFormatter(xmax=100))"
   ]
  },
  {
   "cell_type": "code",
   "execution_count": 10,
   "metadata": {},
   "outputs": [
    {
     "data": {
      "text/plain": [
       "<matplotlib.legend.Legend at 0x23bc1c16080>"
      ]
     },
     "execution_count": 10,
     "metadata": {},
     "output_type": "execute_result"
    },
    {
     "data": {
      "image/png": "[encoded data removed]",
      "text/plain": [
       "<Figure size 432x288 with 1 Axes>"
      ]
     },
     "metadata": {},
     "output_type": "display_data"
    }
   ],
   "source": [
    "order=[\"A\",\"B\",\"C\"]\n",
    "ax3 = sns.countplot(x='City_Category', data=df, hue='Stay_In_Current_City_Years',\n",
    "                    hue_order = ['0', '1', '2','3','4+'], order=order)\n",
    "ax3.set_ylabel('People by City')\n",
    "ax3.legend(loc=(0.1, -0.3), ncol=8, frameon=False)"
   ]
  },
  {
   "cell_type": "code",
   "execution_count": 11,
   "metadata": {},
   "outputs": [
    {
     "data": {
      "text/plain": [
       "<seaborn.axisgrid.FacetGrid at 0x23bc5bbfb00>"
      ]
     },
     "execution_count": 11,
     "metadata": {},
     "output_type": "execute_result"
    },
    {
     "data": {
      "image/png": "[encoded data removed]",
      "text/plain": [
       "<Figure size 772.25x360 with 2 Axes>"
      ]
     },
     "metadata": {},
     "output_type": "display_data"
    }
   ],
   "source": [
    "order=[\"0-17\",\"18-25\",\"26-35\",\"36-45\",\"46-50\",\"51-55\",\"55+\"]\n",
    "sns.catplot(x='Age', col='Marital_Status', data=df, kind='count', hue='Gender', order=order)"
   ]
  },
  {
   "cell_type": "code",
   "execution_count": 17,
   "metadata": {},
   "outputs": [
    {
     "data": {
      "text/html": [
       "<style  type=\"text/css\" >\n",
       "    #T_be23045c_7c63_11e9_ad45_54ab3addad69row0_col4 {\n",
       "            background-color:  Orange;\n",
       "        }    #T_be23045c_7c63_11e9_ad45_54ab3addad69row0_col5 {\n",
       "            background-color:  Orange;\n",
       "        }    #T_be23045c_7c63_11e9_ad45_54ab3addad69row2_col7 {\n",
       "            background-color:  Orange;\n",
       "        }    #T_be23045c_7c63_11e9_ad45_54ab3addad69row3_col1 {\n",
       "            background-color:  Orange;\n",
       "        }    #T_be23045c_7c63_11e9_ad45_54ab3addad69row5_col0 {\n",
       "            background-color:  Orange;\n",
       "        }    #T_be23045c_7c63_11e9_ad45_54ab3addad69row5_col2 {\n",
       "            background-color:  Orange;\n",
       "        }    #T_be23045c_7c63_11e9_ad45_54ab3addad69row5_col3 {\n",
       "            background-color:  Orange;\n",
       "        }    #T_be23045c_7c63_11e9_ad45_54ab3addad69row5_col6 {\n",
       "            background-color:  Orange;\n",
       "        }</style>  \n",
       "<table id=\"T_be23045c_7c63_11e9_ad45_54ab3addad69\" > \n",
       "<thead>    <tr> \n",
       "        <th class=\"blank level0\" ></th> \n",
       "        <th class=\"col_heading level0 col0\" colspan=2>min</th> \n",
       "        <th class=\"col_heading level0 col2\" colspan=2>mean</th> \n",
       "        <th class=\"col_heading level0 col4\" colspan=2>std</th> \n",
       "        <th class=\"col_heading level0 col6\" colspan=2>max</th> \n",
       "    </tr>    <tr> \n",
       "        <th class=\"index_name level1\" >Gender</th> \n",
       "        <th class=\"col_heading level1 col0\" >F</th> \n",
       "        <th class=\"col_heading level1 col1\" >M</th> \n",
       "        <th class=\"col_heading level1 col2\" >F</th> \n",
       "        <th class=\"col_heading level1 col3\" >M</th> \n",
       "        <th class=\"col_heading level1 col4\" >F</th> \n",
       "        <th class=\"col_heading level1 col5\" >M</th> \n",
       "        <th class=\"col_heading level1 col6\" >F</th> \n",
       "        <th class=\"col_heading level1 col7\" >M</th> \n",
       "    </tr>    <tr> \n",
       "        <th class=\"index_name level0\" >Age</th> \n",
       "        <th class=\"blank\" ></th> \n",
       "        <th class=\"blank\" ></th> \n",
       "        <th class=\"blank\" ></th> \n",
       "        <th class=\"blank\" ></th> \n",
       "        <th class=\"blank\" ></th> \n",
       "        <th class=\"blank\" ></th> \n",
       "        <th class=\"blank\" ></th> \n",
       "        <th class=\"blank\" ></th> \n",
       "    </tr></thead> \n",
       "<tbody>    <tr> \n",
       "        <th id=\"T_be23045c_7c63_11e9_ad45_54ab3addad69level0_row0\" class=\"row_heading level0 row0\" >0-17</th> \n",
       "        <td id=\"T_be23045c_7c63_11e9_ad45_54ab3addad69row0_col0\" class=\"data row0 col0\" >197</td> \n",
       "        <td id=\"T_be23045c_7c63_11e9_ad45_54ab3addad69row0_col1\" class=\"data row0 col1\" >187</td> \n",
       "        <td id=\"T_be23045c_7c63_11e9_ad45_54ab3addad69row0_col2\" class=\"data row0 col2\" >8445</td> \n",
       "        <td id=\"T_be23045c_7c63_11e9_ad45_54ab3addad69row0_col3\" class=\"data row0 col3\" >9312</td> \n",
       "        <td id=\"T_be23045c_7c63_11e9_ad45_54ab3addad69row0_col4\" class=\"data row0 col4\" >4805</td> \n",
       "        <td id=\"T_be23045c_7c63_11e9_ad45_54ab3addad69row0_col5\" class=\"data row0 col5\" >5161</td> \n",
       "        <td id=\"T_be23045c_7c63_11e9_ad45_54ab3addad69row0_col6\" class=\"data row0 col6\" >23866</td> \n",
       "        <td id=\"T_be23045c_7c63_11e9_ad45_54ab3addad69row0_col7\" class=\"data row0 col7\" >23955</td> \n",
       "    </tr>    <tr> \n",
       "        <th id=\"T_be23045c_7c63_11e9_ad45_54ab3addad69level0_row1\" class=\"row_heading level0 row1\" >18-25</th> \n",
       "        <td id=\"T_be23045c_7c63_11e9_ad45_54ab3addad69row1_col0\" class=\"data row1 col0\" >197</td> \n",
       "        <td id=\"T_be23045c_7c63_11e9_ad45_54ab3addad69row1_col1\" class=\"data row1 col1\" >185</td> \n",
       "        <td id=\"T_be23045c_7c63_11e9_ad45_54ab3addad69row1_col2\" class=\"data row1 col2\" >8405</td> \n",
       "        <td id=\"T_be23045c_7c63_11e9_ad45_54ab3addad69row1_col3\" class=\"data row1 col3\" >9507</td> \n",
       "        <td id=\"T_be23045c_7c63_11e9_ad45_54ab3addad69row1_col4\" class=\"data row1 col4\" >4649</td> \n",
       "        <td id=\"T_be23045c_7c63_11e9_ad45_54ab3addad69row1_col5\" class=\"data row1 col5\" >5075</td> \n",
       "        <td id=\"T_be23045c_7c63_11e9_ad45_54ab3addad69row1_col6\" class=\"data row1 col6\" >23936</td> \n",
       "        <td id=\"T_be23045c_7c63_11e9_ad45_54ab3addad69row1_col7\" class=\"data row1 col7\" >23958</td> \n",
       "    </tr>    <tr> \n",
       "        <th id=\"T_be23045c_7c63_11e9_ad45_54ab3addad69level0_row2\" class=\"row_heading level0 row2\" >26-35</th> \n",
       "        <td id=\"T_be23045c_7c63_11e9_ad45_54ab3addad69row2_col0\" class=\"data row2 col0\" >186</td> \n",
       "        <td id=\"T_be23045c_7c63_11e9_ad45_54ab3addad69row2_col1\" class=\"data row2 col1\" >185</td> \n",
       "        <td id=\"T_be23045c_7c63_11e9_ad45_54ab3addad69row2_col2\" class=\"data row2 col2\" >8792</td> \n",
       "        <td id=\"T_be23045c_7c63_11e9_ad45_54ab3addad69row2_col3\" class=\"data row2 col3\" >9471</td> \n",
       "        <td id=\"T_be23045c_7c63_11e9_ad45_54ab3addad69row2_col4\" class=\"data row2 col4\" >4676</td> \n",
       "        <td id=\"T_be23045c_7c63_11e9_ad45_54ab3addad69row2_col5\" class=\"data row2 col5\" >5049</td> \n",
       "        <td id=\"T_be23045c_7c63_11e9_ad45_54ab3addad69row2_col6\" class=\"data row2 col6\" >23955</td> \n",
       "        <td id=\"T_be23045c_7c63_11e9_ad45_54ab3addad69row2_col7\" class=\"data row2 col7\" >23961</td> \n",
       "    </tr>    <tr> \n",
       "        <th id=\"T_be23045c_7c63_11e9_ad45_54ab3addad69level0_row3\" class=\"row_heading level0 row3\" >36-45</th> \n",
       "        <td id=\"T_be23045c_7c63_11e9_ad45_54ab3addad69row3_col0\" class=\"data row3 col0\" >185</td> \n",
       "        <td id=\"T_be23045c_7c63_11e9_ad45_54ab3addad69row3_col1\" class=\"data row3 col1\" >190</td> \n",
       "        <td id=\"T_be23045c_7c63_11e9_ad45_54ab3addad69row3_col2\" class=\"data row3 col2\" >9047</td> \n",
       "        <td id=\"T_be23045c_7c63_11e9_ad45_54ab3addad69row3_col3\" class=\"data row3 col3\" >9517</td> \n",
       "        <td id=\"T_be23045c_7c63_11e9_ad45_54ab3addad69row3_col4\" class=\"data row3 col4\" >4782</td> \n",
       "        <td id=\"T_be23045c_7c63_11e9_ad45_54ab3addad69row3_col5\" class=\"data row3 col5\" >5035</td> \n",
       "        <td id=\"T_be23045c_7c63_11e9_ad45_54ab3addad69row3_col6\" class=\"data row3 col6\" >23948</td> \n",
       "        <td id=\"T_be23045c_7c63_11e9_ad45_54ab3addad69row3_col7\" class=\"data row3 col7\" >23960</td> \n",
       "    </tr>    <tr> \n",
       "        <th id=\"T_be23045c_7c63_11e9_ad45_54ab3addad69level0_row4\" class=\"row_heading level0 row4\" >46-50</th> \n",
       "        <td id=\"T_be23045c_7c63_11e9_ad45_54ab3addad69row4_col0\" class=\"data row4 col0\" >209</td> \n",
       "        <td id=\"T_be23045c_7c63_11e9_ad45_54ab3addad69row4_col1\" class=\"data row4 col1\" >186</td> \n",
       "        <td id=\"T_be23045c_7c63_11e9_ad45_54ab3addad69row4_col2\" class=\"data row4 col2\" >8929</td> \n",
       "        <td id=\"T_be23045c_7c63_11e9_ad45_54ab3addad69row4_col3\" class=\"data row4 col3\" >9429</td> \n",
       "        <td id=\"T_be23045c_7c63_11e9_ad45_54ab3addad69row4_col4\" class=\"data row4 col4\" >4754</td> \n",
       "        <td id=\"T_be23045c_7c63_11e9_ad45_54ab3addad69row4_col5\" class=\"data row4 col5\" >4980</td> \n",
       "        <td id=\"T_be23045c_7c63_11e9_ad45_54ab3addad69row4_col6\" class=\"data row4 col6\" >23920</td> \n",
       "        <td id=\"T_be23045c_7c63_11e9_ad45_54ab3addad69row4_col7\" class=\"data row4 col7\" >23960</td> \n",
       "    </tr>    <tr> \n",
       "        <th id=\"T_be23045c_7c63_11e9_ad45_54ab3addad69level0_row5\" class=\"row_heading level0 row5\" >51-55</th> \n",
       "        <td id=\"T_be23045c_7c63_11e9_ad45_54ab3addad69row5_col0\" class=\"data row5 col0\" >216</td> \n",
       "        <td id=\"T_be23045c_7c63_11e9_ad45_54ab3addad69row5_col1\" class=\"data row5 col1\" >187</td> \n",
       "        <td id=\"T_be23045c_7c63_11e9_ad45_54ab3addad69row5_col2\" class=\"data row5 col2\" >9131</td> \n",
       "        <td id=\"T_be23045c_7c63_11e9_ad45_54ab3addad69row5_col3\" class=\"data row5 col3\" >9789</td> \n",
       "        <td id=\"T_be23045c_7c63_11e9_ad45_54ab3addad69row5_col4\" class=\"data row5 col4\" >4798</td> \n",
       "        <td id=\"T_be23045c_7c63_11e9_ad45_54ab3addad69row5_col5\" class=\"data row5 col5\" >5104</td> \n",
       "        <td id=\"T_be23045c_7c63_11e9_ad45_54ab3addad69row5_col6\" class=\"data row5 col6\" >23959</td> \n",
       "        <td id=\"T_be23045c_7c63_11e9_ad45_54ab3addad69row5_col7\" class=\"data row5 col7\" >23960</td> \n",
       "    </tr>    <tr> \n",
       "        <th id=\"T_be23045c_7c63_11e9_ad45_54ab3addad69level0_row6\" class=\"row_heading level0 row6\" >55+</th> \n",
       "        <td id=\"T_be23045c_7c63_11e9_ad45_54ab3addad69row6_col0\" class=\"data row6 col0\" >204</td> \n",
       "        <td id=\"T_be23045c_7c63_11e9_ad45_54ab3addad69row6_col1\" class=\"data row6 col1\" >187</td> \n",
       "        <td id=\"T_be23045c_7c63_11e9_ad45_54ab3addad69row6_col2\" class=\"data row6 col2\" >9120</td> \n",
       "        <td id=\"T_be23045c_7c63_11e9_ad45_54ab3addad69row6_col3\" class=\"data row6 col3\" >9557</td> \n",
       "        <td id=\"T_be23045c_7c63_11e9_ad45_54ab3addad69row6_col4\" class=\"data row6 col4\" >4717</td> \n",
       "        <td id=\"T_be23045c_7c63_11e9_ad45_54ab3addad69row6_col5\" class=\"data row6 col5\" >5001</td> \n",
       "        <td id=\"T_be23045c_7c63_11e9_ad45_54ab3addad69row6_col6\" class=\"data row6 col6\" >23899</td> \n",
       "        <td id=\"T_be23045c_7c63_11e9_ad45_54ab3addad69row6_col7\" class=\"data row6 col7\" >23960</td> \n",
       "    </tr></tbody> \n",
       "</table> "
      ],
      "text/plain": [
       "<pandas.io.formats.style.Styler at 0x23bc5c54400>"
      ]
     },
     "execution_count": 17,
     "metadata": {},
     "output_type": "execute_result"
    }
   ],
   "source": [
    "df5=df.pivot_table(values = 'Purchase', index = 'Age', columns='Gender', aggfunc = [min, np.mean, np. std, max])\n",
    "def highlight_max(s):\n",
    "    is_max = s == s.max()\n",
    "    return ['background-color: Orange' if v else '' for v in is_max]\n",
    "df5.style.apply(highlight_max).format('{:.0f}')"
   ]
  },
  {
   "cell_type": "code",
   "execution_count": null,
   "metadata": {},
   "outputs": [],
   "source": []
  }
 ],
 "metadata": {
  "kernelspec": {
   "display_name": "Python 3",
   "language": "python",
   "name": "python3"
  },
  "language_info": {
   "codemirror_mode": {
    "name": "ipython",
    "version": 3
   },
   "file_extension": ".py",
   "mimetype": "text/x-python",
   "name": "python",
   "nbconvert_exporter": "python",
   "pygments_lexer": "ipython3",
   "version": "3.7.1"
  }
 },
 "nbformat": 4,
 "nbformat_minor": 2
}
